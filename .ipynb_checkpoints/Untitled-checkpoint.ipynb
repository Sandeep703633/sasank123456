{
 "cells": [
  {
   "cell_type": "code",
   "execution_count": 1,
   "id": "c639e7e9",
   "metadata": {},
   "outputs": [
    {
     "ename": "ModuleNotFoundError",
     "evalue": "No module named 'seaborn'",
     "output_type": "error",
     "traceback": [
      "\u001b[1;31m---------------------------------------------------------------------------\u001b[0m",
      "\u001b[1;31mModuleNotFoundError\u001b[0m                       Traceback (most recent call last)",
      "Cell \u001b[1;32mIn[1], line 3\u001b[0m\n\u001b[0;32m      1\u001b[0m \u001b[38;5;28;01mimport\u001b[39;00m \u001b[38;5;21;01mpandas\u001b[39;00m \u001b[38;5;28;01mas\u001b[39;00m \u001b[38;5;21;01mpd\u001b[39;00m\n\u001b[0;32m      2\u001b[0m \u001b[38;5;28;01mimport\u001b[39;00m \u001b[38;5;21;01mmatplotlib\u001b[39;00m\u001b[38;5;21;01m.\u001b[39;00m\u001b[38;5;21;01mpyplot\u001b[39;00m \u001b[38;5;28;01mas\u001b[39;00m \u001b[38;5;21;01mplt\u001b[39;00m\n\u001b[1;32m----> 3\u001b[0m \u001b[38;5;28;01mimport\u001b[39;00m \u001b[38;5;21;01mseaborn\u001b[39;00m \u001b[38;5;28;01mas\u001b[39;00m \u001b[38;5;21;01msns\u001b[39;00m\n\u001b[0;32m      5\u001b[0m \u001b[38;5;66;03m# Load data\u001b[39;00m\n\u001b[0;32m      6\u001b[0m df \u001b[38;5;241m=\u001b[39m pd\u001b[38;5;241m.\u001b[39mread_csv(\u001b[38;5;124m'\u001b[39m\u001b[38;5;124myour_dataset.csv\u001b[39m\u001b[38;5;124m'\u001b[39m)\n",
      "\u001b[1;31mModuleNotFoundError\u001b[0m: No module named 'seaborn'"
     ]
    }
   ],
   "source": [
    "import pandas as pd\n",
    "import matplotlib.pyplot as plt\n",
    "import seaborn as sns\n",
    "\n",
    "# Load data\n",
    "df = pd.read_excel(r\"C:\\\\Users\\\\bandi\\\\Desktop\\\\sandeep\\\\2-1.xlsx\")\n",
    "\n",
    "# Group data by subcode and get the maximum grade for each subject\n",
    "sub_max_grade = df.groupby('Subcode')['Grade'].max().reset_index()\n",
    "\n",
    "# Sort the data by highest grade and get the top 10 subjects\n",
    "top_sub_by_grade = sub_max_grade.sort_values(by='Grade', ascending=False).head(10)\n",
    "\n",
    "# Visualize the top 10 subjects by grade in a bar chart\n",
    "sns.barplot(data=top_sub_by_grade, x='Grade', y='Subcode')\n",
    "plt.title('Top 10 Subjects by Maximum Grade')\n",
    "plt.xlabel('Maximum Grade')\n",
    "plt.ylabel('Subject Code')\n",
    "plt.show()\n",
    "\n",
    "# Group data by department and get the average grade for each department\n",
    "dept_avg_grade = df.groupby(df['Htno'].str[:3])['Grade'].mean().reset_index()\n",
    "\n",
    "# Visualize the average grade by department in a bar chart\n",
    "sns.barplot(data=dept_avg_grade, x='Htno', y='Grade')\n",
    "plt.title('Average Grade by Department')\n",
    "plt.xlabel('Department Code')\n",
    "plt.ylabel('Average Grade')\n",
    "plt.show()\n"
   ]
  },
  {
   "cell_type": "code",
   "execution_count": null,
   "id": "86a7f2f1",
   "metadata": {},
   "outputs": [],
   "source": []
  }
 ],
 "metadata": {
  "kernelspec": {
   "display_name": "Python 3 (ipykernel)",
   "language": "python",
   "name": "python3"
  },
  "language_info": {
   "codemirror_mode": {
    "name": "ipython",
    "version": 3
   },
   "file_extension": ".py",
   "mimetype": "text/x-python",
   "name": "python",
   "nbconvert_exporter": "python",
   "pygments_lexer": "ipython3",
   "version": "3.11.3"
  }
 },
 "nbformat": 4,
 "nbformat_minor": 5
}
